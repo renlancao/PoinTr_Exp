{
  "nbformat": 4,
  "nbformat_minor": 0,
  "metadata": {
    "colab": {
      "name": "Untitled0.ipynb",
      "provenance": [],
      "collapsed_sections": [],
      "mount_file_id": "1VLG_Ws2Rkir9Tj0gD5AX5XbXqiGNSZUQ",
      "authorship_tag": "ABX9TyMCFAttqHNYX+LI3in2SDik",
      "include_colab_link": true
    },
    "kernelspec": {
      "name": "python3",
      "display_name": "Python 3"
    },
    "language_info": {
      "name": "python"
    },
    "accelerator": "GPU"
  },
  "cells": [
    {
      "cell_type": "markdown",
      "metadata": {
        "id": "view-in-github",
        "colab_type": "text"
      },
      "source": [
        "<a href=\"https://colab.research.google.com/github/renlancao/PoinTr_Exp/blob/main/colabrun_exp.ipynb\" target=\"_parent\"><img src=\"https://colab.research.google.com/assets/colab-badge.svg\" alt=\"Open In Colab\"/></a>"
      ]
    },
    {
      "cell_type": "code",
      "metadata": {
        "colab": {
          "base_uri": "https://localhost:8080/",
          "height": 35
        },
        "id": "xcksvZrMnqZ2",
        "outputId": "fd04addf-41fb-49be-ee62-34b5cdcfdbed"
      },
      "source": [
        "import tensorflow as tf \n",
        "tf.test.gpu_device_name()"
      ],
      "execution_count": 2,
      "outputs": [
        {
          "output_type": "execute_result",
          "data": {
            "application/vnd.google.colaboratory.intrinsic+json": {
              "type": "string"
            },
            "text/plain": [
              "''"
            ]
          },
          "metadata": {},
          "execution_count": 2
        }
      ]
    },
    {
      "cell_type": "code",
      "metadata": {
        "colab": {
          "base_uri": "https://localhost:8080/"
        },
        "id": "w3mwA9fPt0zl",
        "outputId": "b4be2a01-a766-4e8f-f0bc-b073143c7117"
      },
      "source": [
        "!apt-get install -y -qq software-properties-common python-software-properties module-init-tools\n",
        "!add-apt-repository -y ppa:alessandro-strada/ppa 2>&1 > /dev/null\n",
        "!apt-get update -qq 2>&1 > /dev/null\n",
        "!apt-get -y install -qq google-drive-ocamlfuse fuse\n",
        "from google.colab import auth\n",
        "auth.authenticate_user()\n",
        "from oauth2client.client import GoogleCredentials\n",
        "creds = GoogleCredentials.get_application_default()\n",
        "import getpass\n",
        "!google-drive-ocamlfuse -headless -id={creds.client_id} -secret={creds.client_secret} < /dev/null 2>&1 | grep URL\n",
        "vcode = getpass.getpass()\n",
        "!echo {vcode} | google-drive-ocamlfuse -headless -id={creds.client_id} -secret={creds.client_secret}"
      ],
      "execution_count": null,
      "outputs": [
        {
          "name": "stdout",
          "output_type": "stream",
          "text": [
            "E: Package 'python-software-properties' has no installation candidate\n",
            "··········\n"
          ]
        }
      ]
    },
    {
      "cell_type": "code",
      "metadata": {
        "id": "U1nYt2HvcHp_"
      },
      "source": [
        "from google.colab import drive\n",
        "drive.mount('/content/drive')"
      ],
      "execution_count": null,
      "outputs": []
    },
    {
      "cell_type": "code",
      "metadata": {
        "colab": {
          "base_uri": "https://localhost:8080/",
          "height": 232
        },
        "id": "5S0ABk5GvoPs",
        "outputId": "7ca86ec7-3811-4b37-80c9-e5f10c6f32fc"
      },
      "source": [
        "!mkdir -p drive \n",
        "!google-drive-ocamlfuse drive \n",
        "import os \n",
        "import sys \n",
        "os.chdir('drive/MyDrive/PoinTr-master/PoinTr-master')"
      ],
      "execution_count": null,
      "outputs": [
        {
          "output_type": "stream",
          "name": "stdout",
          "text": [
            "/bin/bash: google-drive-ocamlfuse: command not found\n"
          ]
        },
        {
          "output_type": "error",
          "ename": "FileNotFoundError",
          "evalue": "ignored",
          "traceback": [
            "\u001b[0;31m---------------------------------------------------------------------------\u001b[0m",
            "\u001b[0;31mFileNotFoundError\u001b[0m                         Traceback (most recent call last)",
            "\u001b[0;32m<ipython-input-7-909f2d696163>\u001b[0m in \u001b[0;36m<module>\u001b[0;34m()\u001b[0m\n\u001b[1;32m      3\u001b[0m \u001b[0;32mimport\u001b[0m \u001b[0mos\u001b[0m\u001b[0;34m\u001b[0m\u001b[0;34m\u001b[0m\u001b[0m\n\u001b[1;32m      4\u001b[0m \u001b[0;32mimport\u001b[0m \u001b[0msys\u001b[0m\u001b[0;34m\u001b[0m\u001b[0;34m\u001b[0m\u001b[0m\n\u001b[0;32m----> 5\u001b[0;31m \u001b[0mos\u001b[0m\u001b[0;34m.\u001b[0m\u001b[0mchdir\u001b[0m\u001b[0;34m(\u001b[0m\u001b[0;34m'drive/MyDrive/PoinTr-master/PoinTr-master'\u001b[0m\u001b[0;34m)\u001b[0m\u001b[0;34m\u001b[0m\u001b[0;34m\u001b[0m\u001b[0m\n\u001b[0m",
            "\u001b[0;31mFileNotFoundError\u001b[0m: [Errno 2] No such file or directory: 'drive/MyDrive/PoinTr-master/PoinTr-master'"
          ]
        }
      ]
    },
    {
      "cell_type": "code",
      "metadata": {
        "colab": {
          "base_uri": "https://localhost:8080/"
        },
        "id": "OCWSRAoixiA1",
        "outputId": "70f302af-9b65-47c3-d3b8-84a18bf94a2f"
      },
      "source": [
        "!ls"
      ],
      "execution_count": null,
      "outputs": [
        {
          "output_type": "stream",
          "name": "stdout",
          "text": [
            "cfgs\t    drive\tKITTI_metric.py  README.md\t   test.py\n",
            "data\t    extensions\tLICENSE\t\t requirements.txt  tools\n",
            "DATASET.md  fig\t\tmain.py\t\t scripts\t   utils\n",
            "datasets    install.sh\tmodels\t\t ShapeNet55.zip\n"
          ]
        }
      ]
    },
    {
      "cell_type": "code",
      "metadata": {
        "colab": {
          "base_uri": "https://localhost:8080/"
        },
        "id": "VhuHkLsGv5XY",
        "outputId": "24353c43-5809-4aa1-9818-e2e4e1a01fb1"
      },
      "source": [
        "from zipfile import ZipFile\n",
        "file_name=\"ShapeNet55.zip\"\n",
        "#opening the zip file in read me mode\n",
        "with ZipFile (file_name, 'r') as zip:\n",
        "  print('Extracting of the file noow...')\n",
        "  zip.extractall()\n",
        "  print('Done')"
      ],
      "execution_count": null,
      "outputs": [
        {
          "output_type": "stream",
          "name": "stdout",
          "text": [
            "Extracting of the file noow...\n",
            "Done\n"
          ]
        }
      ]
    },
    {
      "cell_type": "code",
      "metadata": {
        "colab": {
          "base_uri": "https://localhost:8080/",
          "height": 1000
        },
        "id": "8drnMs7kmiNM",
        "outputId": "31b1478d-c5f0-4acc-ac52-86c91ac858fc"
      },
      "source": [
        "pip install -r requirements.txt"
      ],
      "execution_count": null,
      "outputs": [
        {
          "output_type": "stream",
          "name": "stdout",
          "text": [
            "Collecting argparse\n",
            "  Downloading argparse-1.4.0-py2.py3-none-any.whl (23 kB)\n",
            "Requirement already satisfied: easydict in /usr/local/lib/python3.7/dist-packages (from -r requirements.txt (line 2)) (1.9)\n",
            "Requirement already satisfied: h5py in /usr/local/lib/python3.7/dist-packages (from -r requirements.txt (line 3)) (3.1.0)\n",
            "Requirement already satisfied: matplotlib in /usr/local/lib/python3.7/dist-packages (from -r requirements.txt (line 4)) (3.2.2)\n",
            "Requirement already satisfied: numpy in /usr/local/lib/python3.7/dist-packages (from -r requirements.txt (line 5)) (1.19.5)\n",
            "Collecting open3d==0.9\n",
            "  Downloading open3d-0.9.0.0-cp37-cp37m-manylinux1_x86_64.whl (4.9 MB)\n",
            "\u001b[K     |████████████████████████████████| 4.9 MB 6.1 MB/s \n",
            "\u001b[?25hRequirement already satisfied: opencv-python in /usr/local/lib/python3.7/dist-packages (from -r requirements.txt (line 7)) (4.1.2.30)\n",
            "Requirement already satisfied: pyyaml in /usr/local/lib/python3.7/dist-packages (from -r requirements.txt (line 8)) (3.13)\n",
            "Requirement already satisfied: scipy in /usr/local/lib/python3.7/dist-packages (from -r requirements.txt (line 9)) (1.4.1)\n",
            "Collecting tensorboardX\n",
            "  Downloading tensorboardX-2.4-py2.py3-none-any.whl (124 kB)\n",
            "\u001b[K     |████████████████████████████████| 124 kB 42.4 MB/s \n",
            "\u001b[?25hCollecting timm==0.4.5\n",
            "  Downloading timm-0.4.5-py3-none-any.whl (287 kB)\n",
            "\u001b[K     |████████████████████████████████| 287 kB 47.7 MB/s \n",
            "\u001b[?25hRequirement already satisfied: tqdm in /usr/local/lib/python3.7/dist-packages (from -r requirements.txt (line 12)) (4.62.3)\n",
            "Requirement already satisfied: torch>=1.7.0 in /usr/local/lib/python3.7/dist-packages (from -r requirements.txt (line 13)) (1.9.0+cu111)\n",
            "Collecting transforms3d\n",
            "  Downloading transforms3d-0.3.1.tar.gz (62 kB)\n",
            "\u001b[K     |████████████████████████████████| 62 kB 1.4 MB/s \n",
            "\u001b[?25hRequirement already satisfied: notebook in /usr/local/lib/python3.7/dist-packages (from open3d==0.9->-r requirements.txt (line 6)) (5.3.1)\n",
            "Requirement already satisfied: widgetsnbextension in /usr/local/lib/python3.7/dist-packages (from open3d==0.9->-r requirements.txt (line 6)) (3.5.1)\n",
            "Requirement already satisfied: ipywidgets in /usr/local/lib/python3.7/dist-packages (from open3d==0.9->-r requirements.txt (line 6)) (7.6.5)\n",
            "Requirement already satisfied: torchvision in /usr/local/lib/python3.7/dist-packages (from timm==0.4.5->-r requirements.txt (line 11)) (0.10.0+cu111)\n",
            "Requirement already satisfied: typing-extensions in /usr/local/lib/python3.7/dist-packages (from torch>=1.7.0->-r requirements.txt (line 13)) (3.7.4.3)\n",
            "Requirement already satisfied: cached-property in /usr/local/lib/python3.7/dist-packages (from h5py->-r requirements.txt (line 3)) (1.5.2)\n",
            "Requirement already satisfied: python-dateutil>=2.1 in /usr/local/lib/python3.7/dist-packages (from matplotlib->-r requirements.txt (line 4)) (2.8.2)\n",
            "Requirement already satisfied: pyparsing!=2.0.4,!=2.1.2,!=2.1.6,>=2.0.1 in /usr/local/lib/python3.7/dist-packages (from matplotlib->-r requirements.txt (line 4)) (2.4.7)\n",
            "Requirement already satisfied: kiwisolver>=1.0.1 in /usr/local/lib/python3.7/dist-packages (from matplotlib->-r requirements.txt (line 4)) (1.3.2)\n",
            "Requirement already satisfied: cycler>=0.10 in /usr/local/lib/python3.7/dist-packages (from matplotlib->-r requirements.txt (line 4)) (0.10.0)\n",
            "Requirement already satisfied: six in /usr/local/lib/python3.7/dist-packages (from cycler>=0.10->matplotlib->-r requirements.txt (line 4)) (1.15.0)\n",
            "Requirement already satisfied: protobuf>=3.8.0 in /usr/local/lib/python3.7/dist-packages (from tensorboardX->-r requirements.txt (line 10)) (3.17.3)\n",
            "Requirement already satisfied: jupyterlab-widgets>=1.0.0 in /usr/local/lib/python3.7/dist-packages (from ipywidgets->open3d==0.9->-r requirements.txt (line 6)) (1.0.2)\n",
            "Requirement already satisfied: nbformat>=4.2.0 in /usr/local/lib/python3.7/dist-packages (from ipywidgets->open3d==0.9->-r requirements.txt (line 6)) (5.1.3)\n",
            "Requirement already satisfied: ipython>=4.0.0 in /usr/local/lib/python3.7/dist-packages (from ipywidgets->open3d==0.9->-r requirements.txt (line 6)) (5.5.0)\n",
            "Requirement already satisfied: ipykernel>=4.5.1 in /usr/local/lib/python3.7/dist-packages (from ipywidgets->open3d==0.9->-r requirements.txt (line 6)) (4.10.1)\n",
            "Requirement already satisfied: ipython-genutils~=0.2.0 in /usr/local/lib/python3.7/dist-packages (from ipywidgets->open3d==0.9->-r requirements.txt (line 6)) (0.2.0)\n",
            "Requirement already satisfied: traitlets>=4.3.1 in /usr/local/lib/python3.7/dist-packages (from ipywidgets->open3d==0.9->-r requirements.txt (line 6)) (5.1.0)\n",
            "Requirement already satisfied: tornado>=4.0 in /usr/local/lib/python3.7/dist-packages (from ipykernel>=4.5.1->ipywidgets->open3d==0.9->-r requirements.txt (line 6)) (5.1.1)\n",
            "Requirement already satisfied: jupyter-client in /usr/local/lib/python3.7/dist-packages (from ipykernel>=4.5.1->ipywidgets->open3d==0.9->-r requirements.txt (line 6)) (5.3.5)\n",
            "Requirement already satisfied: decorator in /usr/local/lib/python3.7/dist-packages (from ipython>=4.0.0->ipywidgets->open3d==0.9->-r requirements.txt (line 6)) (4.4.2)\n",
            "Requirement already satisfied: pickleshare in /usr/local/lib/python3.7/dist-packages (from ipython>=4.0.0->ipywidgets->open3d==0.9->-r requirements.txt (line 6)) (0.7.5)\n",
            "Requirement already satisfied: pygments in /usr/local/lib/python3.7/dist-packages (from ipython>=4.0.0->ipywidgets->open3d==0.9->-r requirements.txt (line 6)) (2.6.1)\n",
            "Requirement already satisfied: simplegeneric>0.8 in /usr/local/lib/python3.7/dist-packages (from ipython>=4.0.0->ipywidgets->open3d==0.9->-r requirements.txt (line 6)) (0.8.1)\n",
            "Requirement already satisfied: setuptools>=18.5 in /usr/local/lib/python3.7/dist-packages (from ipython>=4.0.0->ipywidgets->open3d==0.9->-r requirements.txt (line 6)) (57.4.0)\n",
            "Requirement already satisfied: pexpect in /usr/local/lib/python3.7/dist-packages (from ipython>=4.0.0->ipywidgets->open3d==0.9->-r requirements.txt (line 6)) (4.8.0)\n",
            "Requirement already satisfied: prompt-toolkit<2.0.0,>=1.0.4 in /usr/local/lib/python3.7/dist-packages (from ipython>=4.0.0->ipywidgets->open3d==0.9->-r requirements.txt (line 6)) (1.0.18)\n",
            "Requirement already satisfied: jupyter-core in /usr/local/lib/python3.7/dist-packages (from nbformat>=4.2.0->ipywidgets->open3d==0.9->-r requirements.txt (line 6)) (4.8.1)\n",
            "Requirement already satisfied: jsonschema!=2.5.0,>=2.4 in /usr/local/lib/python3.7/dist-packages (from nbformat>=4.2.0->ipywidgets->open3d==0.9->-r requirements.txt (line 6)) (2.6.0)\n",
            "Requirement already satisfied: wcwidth in /usr/local/lib/python3.7/dist-packages (from prompt-toolkit<2.0.0,>=1.0.4->ipython>=4.0.0->ipywidgets->open3d==0.9->-r requirements.txt (line 6)) (0.2.5)\n",
            "Requirement already satisfied: nbconvert in /usr/local/lib/python3.7/dist-packages (from notebook->open3d==0.9->-r requirements.txt (line 6)) (5.6.1)\n",
            "Requirement already satisfied: Send2Trash in /usr/local/lib/python3.7/dist-packages (from notebook->open3d==0.9->-r requirements.txt (line 6)) (1.8.0)\n",
            "Requirement already satisfied: jinja2 in /usr/local/lib/python3.7/dist-packages (from notebook->open3d==0.9->-r requirements.txt (line 6)) (2.11.3)\n",
            "Requirement already satisfied: terminado>=0.8.1 in /usr/local/lib/python3.7/dist-packages (from notebook->open3d==0.9->-r requirements.txt (line 6)) (0.12.1)\n",
            "Requirement already satisfied: pyzmq>=13 in /usr/local/lib/python3.7/dist-packages (from jupyter-client->ipykernel>=4.5.1->ipywidgets->open3d==0.9->-r requirements.txt (line 6)) (22.3.0)\n",
            "Requirement already satisfied: ptyprocess in /usr/local/lib/python3.7/dist-packages (from terminado>=0.8.1->notebook->open3d==0.9->-r requirements.txt (line 6)) (0.7.0)\n",
            "Requirement already satisfied: MarkupSafe>=0.23 in /usr/local/lib/python3.7/dist-packages (from jinja2->notebook->open3d==0.9->-r requirements.txt (line 6)) (2.0.1)\n",
            "Requirement already satisfied: bleach in /usr/local/lib/python3.7/dist-packages (from nbconvert->notebook->open3d==0.9->-r requirements.txt (line 6)) (4.1.0)\n",
            "Requirement already satisfied: mistune<2,>=0.8.1 in /usr/local/lib/python3.7/dist-packages (from nbconvert->notebook->open3d==0.9->-r requirements.txt (line 6)) (0.8.4)\n",
            "Requirement already satisfied: pandocfilters>=1.4.1 in /usr/local/lib/python3.7/dist-packages (from nbconvert->notebook->open3d==0.9->-r requirements.txt (line 6)) (1.5.0)\n",
            "Requirement already satisfied: entrypoints>=0.2.2 in /usr/local/lib/python3.7/dist-packages (from nbconvert->notebook->open3d==0.9->-r requirements.txt (line 6)) (0.3)\n",
            "Requirement already satisfied: defusedxml in /usr/local/lib/python3.7/dist-packages (from nbconvert->notebook->open3d==0.9->-r requirements.txt (line 6)) (0.7.1)\n",
            "Requirement already satisfied: testpath in /usr/local/lib/python3.7/dist-packages (from nbconvert->notebook->open3d==0.9->-r requirements.txt (line 6)) (0.5.0)\n",
            "Requirement already satisfied: webencodings in /usr/local/lib/python3.7/dist-packages (from bleach->nbconvert->notebook->open3d==0.9->-r requirements.txt (line 6)) (0.5.1)\n",
            "Requirement already satisfied: packaging in /usr/local/lib/python3.7/dist-packages (from bleach->nbconvert->notebook->open3d==0.9->-r requirements.txt (line 6)) (21.0)\n",
            "Requirement already satisfied: pillow>=5.3.0 in /usr/local/lib/python3.7/dist-packages (from torchvision->timm==0.4.5->-r requirements.txt (line 11)) (7.1.2)\n",
            "Building wheels for collected packages: transforms3d\n",
            "  Building wheel for transforms3d (setup.py) ... \u001b[?25l\u001b[?25hdone\n",
            "  Created wheel for transforms3d: filename=transforms3d-0.3.1-py3-none-any.whl size=59373 sha256=ff5232f4b91d2183de006ea0bb35fb36b2da45f3610744798136667d15b6df0a\n",
            "  Stored in directory: /root/.cache/pip/wheels/b5/b7/93/8985551f83720ce37548a5b543c75380bb707955a9c2c5d28c\n",
            "Successfully built transforms3d\n",
            "Installing collected packages: transforms3d, timm, tensorboardX, open3d, argparse\n",
            "Successfully installed argparse-1.4.0 open3d-0.9.0.0 tensorboardX-2.4 timm-0.4.5 transforms3d-0.3.1\n"
          ]
        },
        {
          "output_type": "display_data",
          "data": {
            "application/vnd.colab-display-data+json": {
              "pip_warning": {
                "packages": [
                  "argparse"
                ]
              }
            }
          },
          "metadata": {}
        }
      ]
    },
    {
      "cell_type": "code",
      "metadata": {
        "colab": {
          "base_uri": "https://localhost:8080/"
        },
        "id": "MleFLTWRn_MR",
        "outputId": "924488b9-3baf-42dc-983b-f5400430b773"
      },
      "source": [
        "!bash install.sh"
      ],
      "execution_count": null,
      "outputs": [
        {
          "output_type": "stream",
          "name": "stdout",
          "text": [
            "running install\n",
            "running bdist_egg\n",
            "running egg_info\n",
            "writing chamfer.egg-info/PKG-INFO\n",
            "writing dependency_links to chamfer.egg-info/dependency_links.txt\n",
            "writing top-level names to chamfer.egg-info/top_level.txt\n",
            "/usr/local/lib/python3.7/dist-packages/torch/utils/cpp_extension.py:370: UserWarning: Attempted to use ninja as the BuildExtension backend but we could not find ninja.. Falling back to using the slow distutils backend.\n",
            "  warnings.warn(msg.format('we could not find ninja.'))\n",
            "reading manifest file 'chamfer.egg-info/SOURCES.txt'\n",
            "writing manifest file 'chamfer.egg-info/SOURCES.txt'\n",
            "installing library code to build/bdist.linux-x86_64/egg\n",
            "running install_lib\n",
            "running build_ext\n",
            "creating build/bdist.linux-x86_64/egg\n",
            "copying build/lib.linux-x86_64-3.7/chamfer.cpython-37m-x86_64-linux-gnu.so -> build/bdist.linux-x86_64/egg\n",
            "creating stub loader for chamfer.cpython-37m-x86_64-linux-gnu.so\n",
            "byte-compiling build/bdist.linux-x86_64/egg/chamfer.py to chamfer.cpython-37.pyc\n",
            "creating build/bdist.linux-x86_64/egg/EGG-INFO\n",
            "copying chamfer.egg-info/PKG-INFO -> build/bdist.linux-x86_64/egg/EGG-INFO\n",
            "copying chamfer.egg-info/SOURCES.txt -> build/bdist.linux-x86_64/egg/EGG-INFO\n",
            "copying chamfer.egg-info/dependency_links.txt -> build/bdist.linux-x86_64/egg/EGG-INFO\n",
            "copying chamfer.egg-info/top_level.txt -> build/bdist.linux-x86_64/egg/EGG-INFO\n",
            "writing build/bdist.linux-x86_64/egg/EGG-INFO/native_libs.txt\n",
            "zip_safe flag not set; analyzing archive contents...\n",
            "__pycache__.chamfer.cpython-37: module references __file__\n",
            "creating 'dist/chamfer-2.0.0-py3.7-linux-x86_64.egg' and adding 'build/bdist.linux-x86_64/egg' to it\n",
            "removing 'build/bdist.linux-x86_64/egg' (and everything under it)\n",
            "Processing chamfer-2.0.0-py3.7-linux-x86_64.egg\n",
            "removing '/content/drive/MyDrive/PoinTr-master/PoinTr-master/.local/lib/python3.7/site-packages/chamfer-2.0.0-py3.7-linux-x86_64.egg' (and everything under it)\n",
            "creating /content/drive/MyDrive/PoinTr-master/PoinTr-master/.local/lib/python3.7/site-packages/chamfer-2.0.0-py3.7-linux-x86_64.egg\n",
            "Extracting chamfer-2.0.0-py3.7-linux-x86_64.egg to /content/drive/MyDrive/PoinTr-master/PoinTr-master/.local/lib/python3.7/site-packages\n",
            "chamfer 2.0.0 is already the active version in easy-install.pth\n",
            "\n",
            "Installed /content/drive/MyDrive/PoinTr-master/PoinTr-master/.local/lib/python3.7/site-packages/chamfer-2.0.0-py3.7-linux-x86_64.egg\n",
            "Processing dependencies for chamfer==2.0.0\n",
            "Finished processing dependencies for chamfer==2.0.0\n",
            "running install\n",
            "running bdist_egg\n",
            "running egg_info\n",
            "writing cubic_feature_sampling.egg-info/PKG-INFO\n",
            "writing dependency_links to cubic_feature_sampling.egg-info/dependency_links.txt\n",
            "writing top-level names to cubic_feature_sampling.egg-info/top_level.txt\n",
            "/usr/local/lib/python3.7/dist-packages/torch/utils/cpp_extension.py:370: UserWarning: Attempted to use ninja as the BuildExtension backend but we could not find ninja.. Falling back to using the slow distutils backend.\n",
            "  warnings.warn(msg.format('we could not find ninja.'))\n",
            "reading manifest file 'cubic_feature_sampling.egg-info/SOURCES.txt'\n",
            "writing manifest file 'cubic_feature_sampling.egg-info/SOURCES.txt'\n",
            "installing library code to build/bdist.linux-x86_64/egg\n",
            "running install_lib\n",
            "running build_ext\n",
            "creating build/bdist.linux-x86_64/egg\n",
            "copying build/lib.linux-x86_64-3.7/cubic_feature_sampling.cpython-37m-x86_64-linux-gnu.so -> build/bdist.linux-x86_64/egg\n",
            "creating stub loader for cubic_feature_sampling.cpython-37m-x86_64-linux-gnu.so\n",
            "byte-compiling build/bdist.linux-x86_64/egg/cubic_feature_sampling.py to cubic_feature_sampling.cpython-37.pyc\n",
            "creating build/bdist.linux-x86_64/egg/EGG-INFO\n",
            "copying cubic_feature_sampling.egg-info/PKG-INFO -> build/bdist.linux-x86_64/egg/EGG-INFO\n",
            "copying cubic_feature_sampling.egg-info/SOURCES.txt -> build/bdist.linux-x86_64/egg/EGG-INFO\n",
            "copying cubic_feature_sampling.egg-info/dependency_links.txt -> build/bdist.linux-x86_64/egg/EGG-INFO\n",
            "copying cubic_feature_sampling.egg-info/top_level.txt -> build/bdist.linux-x86_64/egg/EGG-INFO\n",
            "writing build/bdist.linux-x86_64/egg/EGG-INFO/native_libs.txt\n",
            "zip_safe flag not set; analyzing archive contents...\n",
            "__pycache__.cubic_feature_sampling.cpython-37: module references __file__\n",
            "creating 'dist/cubic_feature_sampling-1.1.0-py3.7-linux-x86_64.egg' and adding 'build/bdist.linux-x86_64/egg' to it\n",
            "removing 'build/bdist.linux-x86_64/egg' (and everything under it)\n",
            "Processing cubic_feature_sampling-1.1.0-py3.7-linux-x86_64.egg\n",
            "removing '/content/drive/MyDrive/PoinTr-master/PoinTr-master/.local/lib/python3.7/site-packages/cubic_feature_sampling-1.1.0-py3.7-linux-x86_64.egg' (and everything under it)\n",
            "creating /content/drive/MyDrive/PoinTr-master/PoinTr-master/.local/lib/python3.7/site-packages/cubic_feature_sampling-1.1.0-py3.7-linux-x86_64.egg\n",
            "Extracting cubic_feature_sampling-1.1.0-py3.7-linux-x86_64.egg to /content/drive/MyDrive/PoinTr-master/PoinTr-master/.local/lib/python3.7/site-packages\n",
            "cubic-feature-sampling 1.1.0 is already the active version in easy-install.pth\n",
            "\n",
            "Installed /content/drive/MyDrive/PoinTr-master/PoinTr-master/.local/lib/python3.7/site-packages/cubic_feature_sampling-1.1.0-py3.7-linux-x86_64.egg\n",
            "Processing dependencies for cubic-feature-sampling==1.1.0\n",
            "Finished processing dependencies for cubic-feature-sampling==1.1.0\n",
            "running install\n",
            "running bdist_egg\n",
            "running egg_info\n",
            "writing gridding.egg-info/PKG-INFO\n",
            "writing dependency_links to gridding.egg-info/dependency_links.txt\n",
            "writing top-level names to gridding.egg-info/top_level.txt\n",
            "/usr/local/lib/python3.7/dist-packages/torch/utils/cpp_extension.py:370: UserWarning: Attempted to use ninja as the BuildExtension backend but we could not find ninja.. Falling back to using the slow distutils backend.\n",
            "  warnings.warn(msg.format('we could not find ninja.'))\n",
            "reading manifest file 'gridding.egg-info/SOURCES.txt'\n",
            "writing manifest file 'gridding.egg-info/SOURCES.txt'\n",
            "installing library code to build/bdist.linux-x86_64/egg\n",
            "running install_lib\n",
            "running build_ext\n",
            "creating build/bdist.linux-x86_64/egg\n",
            "copying build/lib.linux-x86_64-3.7/gridding.cpython-37m-x86_64-linux-gnu.so -> build/bdist.linux-x86_64/egg\n",
            "creating stub loader for gridding.cpython-37m-x86_64-linux-gnu.so\n",
            "byte-compiling build/bdist.linux-x86_64/egg/gridding.py to gridding.cpython-37.pyc\n",
            "creating build/bdist.linux-x86_64/egg/EGG-INFO\n",
            "copying gridding.egg-info/PKG-INFO -> build/bdist.linux-x86_64/egg/EGG-INFO\n",
            "copying gridding.egg-info/SOURCES.txt -> build/bdist.linux-x86_64/egg/EGG-INFO\n",
            "copying gridding.egg-info/dependency_links.txt -> build/bdist.linux-x86_64/egg/EGG-INFO\n",
            "copying gridding.egg-info/top_level.txt -> build/bdist.linux-x86_64/egg/EGG-INFO\n",
            "writing build/bdist.linux-x86_64/egg/EGG-INFO/native_libs.txt\n",
            "zip_safe flag not set; analyzing archive contents...\n",
            "__pycache__.gridding.cpython-37: module references __file__\n",
            "creating 'dist/gridding-2.1.0-py3.7-linux-x86_64.egg' and adding 'build/bdist.linux-x86_64/egg' to it\n",
            "removing 'build/bdist.linux-x86_64/egg' (and everything under it)\n",
            "Processing gridding-2.1.0-py3.7-linux-x86_64.egg\n",
            "removing '/content/drive/MyDrive/PoinTr-master/PoinTr-master/.local/lib/python3.7/site-packages/gridding-2.1.0-py3.7-linux-x86_64.egg' (and everything under it)\n",
            "creating /content/drive/MyDrive/PoinTr-master/PoinTr-master/.local/lib/python3.7/site-packages/gridding-2.1.0-py3.7-linux-x86_64.egg\n",
            "Extracting gridding-2.1.0-py3.7-linux-x86_64.egg to /content/drive/MyDrive/PoinTr-master/PoinTr-master/.local/lib/python3.7/site-packages\n",
            "gridding 2.1.0 is already the active version in easy-install.pth\n",
            "\n",
            "Installed /content/drive/MyDrive/PoinTr-master/PoinTr-master/.local/lib/python3.7/site-packages/gridding-2.1.0-py3.7-linux-x86_64.egg\n",
            "Processing dependencies for gridding==2.1.0\n",
            "Finished processing dependencies for gridding==2.1.0\n",
            "running install\n",
            "running bdist_egg\n",
            "running egg_info\n",
            "writing gridding_distance.egg-info/PKG-INFO\n",
            "writing dependency_links to gridding_distance.egg-info/dependency_links.txt\n",
            "writing top-level names to gridding_distance.egg-info/top_level.txt\n",
            "/usr/local/lib/python3.7/dist-packages/torch/utils/cpp_extension.py:370: UserWarning: Attempted to use ninja as the BuildExtension backend but we could not find ninja.. Falling back to using the slow distutils backend.\n",
            "  warnings.warn(msg.format('we could not find ninja.'))\n",
            "reading manifest file 'gridding_distance.egg-info/SOURCES.txt'\n",
            "writing manifest file 'gridding_distance.egg-info/SOURCES.txt'\n",
            "installing library code to build/bdist.linux-x86_64/egg\n",
            "running install_lib\n",
            "running build_ext\n",
            "creating build/bdist.linux-x86_64/egg\n",
            "copying build/lib.linux-x86_64-3.7/gridding_distance.cpython-37m-x86_64-linux-gnu.so -> build/bdist.linux-x86_64/egg\n",
            "creating stub loader for gridding_distance.cpython-37m-x86_64-linux-gnu.so\n",
            "byte-compiling build/bdist.linux-x86_64/egg/gridding_distance.py to gridding_distance.cpython-37.pyc\n",
            "creating build/bdist.linux-x86_64/egg/EGG-INFO\n",
            "copying gridding_distance.egg-info/PKG-INFO -> build/bdist.linux-x86_64/egg/EGG-INFO\n",
            "copying gridding_distance.egg-info/SOURCES.txt -> build/bdist.linux-x86_64/egg/EGG-INFO\n",
            "copying gridding_distance.egg-info/dependency_links.txt -> build/bdist.linux-x86_64/egg/EGG-INFO\n",
            "copying gridding_distance.egg-info/top_level.txt -> build/bdist.linux-x86_64/egg/EGG-INFO\n",
            "writing build/bdist.linux-x86_64/egg/EGG-INFO/native_libs.txt\n",
            "zip_safe flag not set; analyzing archive contents...\n",
            "__pycache__.gridding_distance.cpython-37: module references __file__\n",
            "creating 'dist/gridding_distance-1.0.0-py3.7-linux-x86_64.egg' and adding 'build/bdist.linux-x86_64/egg' to it\n",
            "removing 'build/bdist.linux-x86_64/egg' (and everything under it)\n",
            "Processing gridding_distance-1.0.0-py3.7-linux-x86_64.egg\n",
            "removing '/content/drive/MyDrive/PoinTr-master/PoinTr-master/.local/lib/python3.7/site-packages/gridding_distance-1.0.0-py3.7-linux-x86_64.egg' (and everything under it)\n",
            "creating /content/drive/MyDrive/PoinTr-master/PoinTr-master/.local/lib/python3.7/site-packages/gridding_distance-1.0.0-py3.7-linux-x86_64.egg\n",
            "Extracting gridding_distance-1.0.0-py3.7-linux-x86_64.egg to /content/drive/MyDrive/PoinTr-master/PoinTr-master/.local/lib/python3.7/site-packages\n",
            "gridding-distance 1.0.0 is already the active version in easy-install.pth\n",
            "\n",
            "Installed /content/drive/MyDrive/PoinTr-master/PoinTr-master/.local/lib/python3.7/site-packages/gridding_distance-1.0.0-py3.7-linux-x86_64.egg\n",
            "Processing dependencies for gridding-distance==1.0.0\n",
            "Finished processing dependencies for gridding-distance==1.0.0\n"
          ]
        }
      ]
    },
    {
      "cell_type": "code",
      "metadata": {
        "colab": {
          "base_uri": "https://localhost:8080/"
        },
        "id": "K4TPVdVS0UyJ",
        "outputId": "67b38615-3e8e-49a1-9a84-b2c315f304fc"
      },
      "source": [
        "pip install \"git+git://github.com/erikwijmans/Pointnet2_PyTorch.git#egg=pointnet2_ops&subdirectory=pointnet2_ops_lib\""
      ],
      "execution_count": null,
      "outputs": [
        {
          "output_type": "stream",
          "name": "stdout",
          "text": [
            "Collecting pointnet2_ops\n",
            "  Cloning git://github.com/erikwijmans/Pointnet2_PyTorch.git to /tmp/pip-install-nkx2ir4c/pointnet2-ops_4d1eade9448147a9b244cf8910e5c95e\n",
            "  Running command git clone -q git://github.com/erikwijmans/Pointnet2_PyTorch.git /tmp/pip-install-nkx2ir4c/pointnet2-ops_4d1eade9448147a9b244cf8910e5c95e\n",
            "Requirement already satisfied: torch>=1.4 in /usr/local/lib/python3.7/dist-packages (from pointnet2_ops) (1.9.0+cu111)\n",
            "Requirement already satisfied: typing-extensions in /usr/local/lib/python3.7/dist-packages (from torch>=1.4->pointnet2_ops) (3.7.4.3)\n",
            "Building wheels for collected packages: pointnet2-ops\n",
            "  Building wheel for pointnet2-ops (setup.py) ... \u001b[?25l\u001b[?25hdone\n",
            "  Created wheel for pointnet2-ops: filename=pointnet2_ops-3.0.0-cp37-cp37m-linux_x86_64.whl size=5967448 sha256=c08b073882ec5f8510037a7dcdd6609ff89494e8f0a4012d478f41c1b97b17fc\n",
            "  Stored in directory: /tmp/pip-ephem-wheel-cache-vpda_17b/wheels/e6/14/0f/7d3c9c2a227ac117cc608d5b9b6e372c0d115299a2e2af8c6b\n",
            "Successfully built pointnet2-ops\n",
            "Installing collected packages: pointnet2-ops\n",
            "Successfully installed pointnet2-ops-3.0.0\n"
          ]
        }
      ]
    },
    {
      "cell_type": "code",
      "metadata": {
        "colab": {
          "base_uri": "https://localhost:8080/"
        },
        "id": "EH_CLYWU1w22",
        "outputId": "a0b9ecc0-8a66-4589-92ce-2bc99a4b0e48"
      },
      "source": [
        "pip install --upgrade https://github.com/unlimblue/KNN_CUDA/releases/download/0.2/KNN_CUDA-0.2-py3-none-any.whl"
      ],
      "execution_count": null,
      "outputs": [
        {
          "output_type": "stream",
          "name": "stdout",
          "text": [
            "Collecting KNN-CUDA==0.2\n",
            "  Downloading https://github.com/unlimblue/KNN_CUDA/releases/download/0.2/KNN_CUDA-0.2-py3-none-any.whl (5.7 kB)\n",
            "Requirement already satisfied: scikit-learn in /usr/local/lib/python3.7/dist-packages (from KNN-CUDA==0.2) (0.22.2.post1)\n",
            "Requirement already satisfied: numpy in /usr/local/lib/python3.7/dist-packages (from KNN-CUDA==0.2) (1.19.5)\n",
            "Requirement already satisfied: torch>=1.1.0 in /usr/local/lib/python3.7/dist-packages (from KNN-CUDA==0.2) (1.9.0+cu111)\n",
            "Requirement already satisfied: typing-extensions in /usr/local/lib/python3.7/dist-packages (from torch>=1.1.0->KNN-CUDA==0.2) (3.7.4.3)\n",
            "Requirement already satisfied: scipy>=0.17.0 in /usr/local/lib/python3.7/dist-packages (from scikit-learn->KNN-CUDA==0.2) (1.4.1)\n",
            "Requirement already satisfied: joblib>=0.11 in /usr/local/lib/python3.7/dist-packages (from scikit-learn->KNN-CUDA==0.2) (1.0.1)\n",
            "Installing collected packages: KNN-CUDA\n",
            "Successfully installed KNN-CUDA-0.2\n"
          ]
        }
      ]
    },
    {
      "cell_type": "code",
      "metadata": {
        "id": "WVtVwS2IA4Fv"
      },
      "source": [
        "os.chdir('extensions/chamfer_dist')"
      ],
      "execution_count": null,
      "outputs": []
    },
    {
      "cell_type": "code",
      "metadata": {
        "colab": {
          "base_uri": "https://localhost:8080/"
        },
        "id": "yYYrgEKhBK55",
        "outputId": "8b5ed6a5-1b7c-49be-ef35-fec7258aad92"
      },
      "source": [
        "!python setup.py install --user"
      ],
      "execution_count": null,
      "outputs": [
        {
          "output_type": "stream",
          "name": "stdout",
          "text": [
            "running install\n",
            "running bdist_egg\n",
            "running egg_info\n",
            "writing chamfer.egg-info/PKG-INFO\n",
            "writing dependency_links to chamfer.egg-info/dependency_links.txt\n",
            "writing top-level names to chamfer.egg-info/top_level.txt\n",
            "/usr/local/lib/python3.7/dist-packages/torch/utils/cpp_extension.py:370: UserWarning: Attempted to use ninja as the BuildExtension backend but we could not find ninja.. Falling back to using the slow distutils backend.\n",
            "  warnings.warn(msg.format('we could not find ninja.'))\n",
            "reading manifest file 'chamfer.egg-info/SOURCES.txt'\n",
            "writing manifest file 'chamfer.egg-info/SOURCES.txt'\n",
            "installing library code to build/bdist.linux-x86_64/egg\n",
            "running install_lib\n",
            "running build_ext\n",
            "creating build/bdist.linux-x86_64/egg\n",
            "copying build/lib.linux-x86_64-3.7/chamfer.cpython-37m-x86_64-linux-gnu.so -> build/bdist.linux-x86_64/egg\n",
            "creating stub loader for chamfer.cpython-37m-x86_64-linux-gnu.so\n",
            "byte-compiling build/bdist.linux-x86_64/egg/chamfer.py to chamfer.cpython-37.pyc\n",
            "creating build/bdist.linux-x86_64/egg/EGG-INFO\n",
            "copying chamfer.egg-info/PKG-INFO -> build/bdist.linux-x86_64/egg/EGG-INFO\n",
            "copying chamfer.egg-info/SOURCES.txt -> build/bdist.linux-x86_64/egg/EGG-INFO\n",
            "copying chamfer.egg-info/dependency_links.txt -> build/bdist.linux-x86_64/egg/EGG-INFO\n",
            "copying chamfer.egg-info/top_level.txt -> build/bdist.linux-x86_64/egg/EGG-INFO\n",
            "writing build/bdist.linux-x86_64/egg/EGG-INFO/native_libs.txt\n",
            "zip_safe flag not set; analyzing archive contents...\n",
            "__pycache__.chamfer.cpython-37: module references __file__\n",
            "creating 'dist/chamfer-2.0.0-py3.7-linux-x86_64.egg' and adding 'build/bdist.linux-x86_64/egg' to it\n",
            "removing 'build/bdist.linux-x86_64/egg' (and everything under it)\n",
            "Processing chamfer-2.0.0-py3.7-linux-x86_64.egg\n",
            "creating /root/.local/lib/python3.7/site-packages/chamfer-2.0.0-py3.7-linux-x86_64.egg\n",
            "Extracting chamfer-2.0.0-py3.7-linux-x86_64.egg to /root/.local/lib/python3.7/site-packages\n",
            "Adding chamfer 2.0.0 to easy-install.pth file\n",
            "\n",
            "Installed /root/.local/lib/python3.7/site-packages/chamfer-2.0.0-py3.7-linux-x86_64.egg\n",
            "Processing dependencies for chamfer==2.0.0\n",
            "Finished processing dependencies for chamfer==2.0.0\n"
          ]
        }
      ]
    },
    {
      "cell_type": "code",
      "metadata": {
        "colab": {
          "base_uri": "https://localhost:8080/"
        },
        "id": "o0OLxvroBtE4",
        "outputId": "799781df-4c4d-40b8-dab6-0d3d508c536f"
      },
      "source": [
        "cd ..\n",
        "cd .."
      ],
      "execution_count": null,
      "outputs": [
        {
          "output_type": "stream",
          "name": "stdout",
          "text": [
            "/content/drive/My Drive/PoinTr-master/PoinTr-master\n"
          ]
        }
      ]
    },
    {
      "cell_type": "code",
      "metadata": {
        "id": "kYFXmB-KX7Bc"
      },
      "source": [
        "os.chdir('extensions/cubic_feature_sampling')\n",
        "!python setup.py install --user"
      ],
      "execution_count": null,
      "outputs": []
    },
    {
      "cell_type": "code",
      "metadata": {
        "id": "5E_sNt0fYb2m"
      },
      "source": [
        "cd ..\n",
        "cd .."
      ],
      "execution_count": null,
      "outputs": []
    },
    {
      "cell_type": "code",
      "metadata": {
        "id": "3N_HmUOeYJEQ"
      },
      "source": [
        "os.chdir('extensions/gridding')\n",
        "!python setup.py install --user"
      ],
      "execution_count": null,
      "outputs": []
    },
    {
      "cell_type": "code",
      "metadata": {
        "id": "C8TmTmYyYdA_"
      },
      "source": [
        "cd ..\n",
        "cd .."
      ],
      "execution_count": null,
      "outputs": []
    },
    {
      "cell_type": "code",
      "metadata": {
        "id": "3aeiGtTyYRwi"
      },
      "source": [
        "os.chdir('extensions/gridding_loss')\n",
        "!python setup.py install --user"
      ],
      "execution_count": null,
      "outputs": []
    },
    {
      "cell_type": "code",
      "metadata": {
        "id": "Uef3ziDbYd1i"
      },
      "source": [
        "cd ..\n",
        "cd .."
      ],
      "execution_count": null,
      "outputs": []
    },
    {
      "cell_type": "code",
      "metadata": {
        "colab": {
          "base_uri": "https://localhost:8080/"
        },
        "id": "XRp2sv-FDhYW",
        "outputId": "14fd12d6-00ad-44cd-fa49-4b35c279ff2f"
      },
      "source": [
        "pip install Ninja"
      ],
      "execution_count": null,
      "outputs": [
        {
          "output_type": "stream",
          "name": "stdout",
          "text": [
            "Collecting Ninja\n",
            "  Downloading ninja-1.10.2.2-py2.py3-none-manylinux_2_5_x86_64.manylinux1_x86_64.whl (108 kB)\n",
            "\u001b[?25l\r\u001b[K     |███                             | 10 kB 23.1 MB/s eta 0:00:01\r\u001b[K     |██████                          | 20 kB 25.1 MB/s eta 0:00:01\r\u001b[K     |█████████                       | 30 kB 12.0 MB/s eta 0:00:01\r\u001b[K     |████████████▏                   | 40 kB 9.3 MB/s eta 0:00:01\r\u001b[K     |███████████████▏                | 51 kB 4.3 MB/s eta 0:00:01\r\u001b[K     |██████████████████▏             | 61 kB 4.5 MB/s eta 0:00:01\r\u001b[K     |█████████████████████▏          | 71 kB 4.3 MB/s eta 0:00:01\r\u001b[K     |████████████████████████▎       | 81 kB 4.9 MB/s eta 0:00:01\r\u001b[K     |███████████████████████████▎    | 92 kB 4.8 MB/s eta 0:00:01\r\u001b[K     |██████████████████████████████▎ | 102 kB 5.0 MB/s eta 0:00:01\r\u001b[K     |████████████████████████████████| 108 kB 5.0 MB/s \n",
            "\u001b[?25hInstalling collected packages: Ninja\n",
            "Successfully installed Ninja-1.10.2.2\n"
          ]
        }
      ]
    },
    {
      "cell_type": "code",
      "metadata": {
        "colab": {
          "base_uri": "https://localhost:8080/"
        },
        "id": "lSvhqfmk2Br-",
        "outputId": "9da7f23b-b22e-42c2-9342-cbba9cb2d78f"
      },
      "source": [
        "!bash ./scripts/train.sh 0 \\\n",
        "    --config ./cfgs/ShapeNet55_models/PoinTr.yaml \\\n",
        "    --exp_name example \\\n",
        "    [--resume] \\\n",
        "    [--start_ckpts ./weight.pth] \\"
      ],
      "execution_count": null,
      "outputs": [
        {
          "output_type": "stream",
          "name": "stdout",
          "text": [
            "+ GPUS=0\n",
            "+ PY_ARGS='--config ./cfgs/ShapeNet55_models/PoinTr.yaml --exp_name example [--resume] [--start_ckpts ./weight.pth]'\n",
            "+ CUDA_VISIBLE_DEVICES=0\n",
            "+ python main.py --config ./cfgs/ShapeNet55_models/PoinTr.yaml --exp_name example '[--resume]' '[--start_ckpts' './weight.pth]'\n",
            "Traceback (most recent call last):\n",
            "  File \"main.py\", line 1, in <module>\n",
            "    from tools import run_net\n",
            "  File \"/content/drive/My Drive/PoinTr-master/PoinTr-master/tools/__init__.py\", line 1, in <module>\n",
            "    from .runner import run_net\n",
            "  File \"/content/drive/My Drive/PoinTr-master/PoinTr-master/tools/runner.py\", line 5, in <module>\n",
            "    from tools import builder\n",
            "  File \"/content/drive/My Drive/PoinTr-master/PoinTr-master/tools/builder.py\", line 8, in <module>\n",
            "    from models import build_model_from_cfg\n",
            "  File \"/content/drive/My Drive/PoinTr-master/PoinTr-master/models/__init__.py\", line 4, in <module>\n",
            "    import models.GRNet\n",
            "  File \"/content/drive/My Drive/PoinTr-master/PoinTr-master/models/GRNet.py\", line 13, in <module>\n",
            "    from extensions.gridding import Gridding, GriddingReverse\n",
            "  File \"/content/drive/My Drive/PoinTr-master/PoinTr-master/extensions/gridding/__init__.py\", line 10, in <module>\n",
            "    import gridding\n",
            "ModuleNotFoundError: No module named 'gridding'\n"
          ]
        }
      ]
    },
    {
      "cell_type": "code",
      "metadata": {
        "colab": {
          "base_uri": "https://localhost:8080/"
        },
        "id": "YQFMwUq_BHOu",
        "outputId": "c7e02ade-a12c-4776-b33e-7aeea0fd8109"
      },
      "source": [
        "!ls"
      ],
      "execution_count": null,
      "outputs": [
        {
          "output_type": "stream",
          "name": "stdout",
          "text": [
            "drive  sample_data\n"
          ]
        }
      ]
    }
  ]
}